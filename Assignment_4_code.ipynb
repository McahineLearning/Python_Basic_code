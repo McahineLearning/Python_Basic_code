{
 "cells": [
  {
   "cell_type": "markdown",
   "metadata": {},
   "source": [
    "# 1. Factorial of a number"
   ]
  },
  {
   "cell_type": "code",
   "execution_count": 78,
   "metadata": {},
   "outputs": [],
   "source": [
    "class Factorial:\n",
    "    '''\n",
    "    Calculates the factorial of a number\n",
    "    '''\n",
    "    \n",
    "    def __init__(self, fact = 0):\n",
    "        self.fact = 0\n",
    "        \n",
    "    def facts(self):\n",
    "        \n",
    "        factorial = 1\n",
    "        \n",
    "        try:\n",
    "            num = int(input('Enter your Number : '))\n",
    "            \n",
    "            if num>1:\n",
    "                for i in range(1, num + 1):\n",
    "                    factorial = factorial * i\n",
    "                print('Factorial of ', num, ' is : ', factorial)\n",
    "            \n",
    "            if num < 0:\n",
    "                print('No factorial for negative numbers')\n",
    "\n",
    "            if num == 0:\n",
    "                print('Factorial of 0 is : 1')\n",
    "                \n",
    "            if num == 1:\n",
    "                print('Factorial of 1 is : 1')\n",
    "                        \n",
    "        except Exception as e:\n",
    "            print(\"The error is \", \"*****************\",e)\n",
    "            \n",
    "            \n",
    "            \n",
    "            \n",
    "        "
   ]
  },
  {
   "cell_type": "code",
   "execution_count": 65,
   "metadata": {},
   "outputs": [],
   "source": [
    "fact = Factorial()"
   ]
  },
  {
   "cell_type": "code",
   "execution_count": 66,
   "metadata": {},
   "outputs": [
    {
     "name": "stdout",
     "output_type": "stream",
     "text": [
      "Enter your Number : eodk\n",
      "The error is  ***************** invalid literal for int() with base 10: 'eodk'\n"
     ]
    }
   ],
   "source": [
    "fact.facts()"
   ]
  },
  {
   "cell_type": "code",
   "execution_count": 80,
   "metadata": {},
   "outputs": [
    {
     "name": "stdout",
     "output_type": "stream",
     "text": [
      "Enter your Number : 0\n",
      "Factorial of 0 is : 1\n"
     ]
    }
   ],
   "source": [
    "fact.facts()"
   ]
  },
  {
   "cell_type": "code",
   "execution_count": 81,
   "metadata": {},
   "outputs": [
    {
     "name": "stdout",
     "output_type": "stream",
     "text": [
      "Enter your Number : 1\n",
      "Factorial of 1 is : 1\n"
     ]
    }
   ],
   "source": [
    "fact.facts()"
   ]
  },
  {
   "cell_type": "code",
   "execution_count": 82,
   "metadata": {},
   "outputs": [
    {
     "name": "stdout",
     "output_type": "stream",
     "text": [
      "Enter your Number : 20\n",
      "Factorial of  20  is :  2432902008176640000\n"
     ]
    }
   ],
   "source": [
    "fact.facts()"
   ]
  },
  {
   "cell_type": "markdown",
   "metadata": {},
   "source": [
    "# 2. Multiplication Table"
   ]
  },
  {
   "cell_type": "code",
   "execution_count": 84,
   "metadata": {},
   "outputs": [],
   "source": [
    "class Multiply:\n",
    "    '''\n",
    "    Displays the multiplicatin table\n",
    "    '''\n",
    "    def __init__(self, mul= 0):\n",
    "        self.mul = mul\n",
    "        \n",
    "    def table(self):\n",
    "        try:\n",
    "            num1 = int(input(\"Enter the number who's table you want to display :\"))\n",
    "            num2 = int(input('Enter the range of multiplication :'))\n",
    "            \n",
    "            for i in range(0, num2+1):\n",
    "                result = num1 * i\n",
    "                print(num1, 'X', i, '=', result, flush = True)\n",
    "                \n",
    "        except Exception as e:\n",
    "            print(e)"
   ]
  },
  {
   "cell_type": "code",
   "execution_count": 85,
   "metadata": {},
   "outputs": [],
   "source": [
    "mul = Multiply()"
   ]
  },
  {
   "cell_type": "code",
   "execution_count": 86,
   "metadata": {},
   "outputs": [
    {
     "name": "stdout",
     "output_type": "stream",
     "text": [
      "Enter the number who's table you want to display :wijdijd\n",
      "invalid literal for int() with base 10: 'wijdijd'\n"
     ]
    }
   ],
   "source": [
    "mul.table()\n"
   ]
  },
  {
   "cell_type": "code",
   "execution_count": 87,
   "metadata": {},
   "outputs": [
    {
     "name": "stdout",
     "output_type": "stream",
     "text": [
      "Enter the number who's table you want to display :5\n",
      "Enter the range of multiplication :10\n",
      "5 X 0 = 0\n",
      "5 X 1 = 5\n",
      "5 X 2 = 10\n",
      "5 X 3 = 15\n",
      "5 X 4 = 20\n",
      "5 X 5 = 25\n",
      "5 X 6 = 30\n",
      "5 X 7 = 35\n",
      "5 X 8 = 40\n",
      "5 X 9 = 45\n",
      "5 X 10 = 50\n"
     ]
    }
   ],
   "source": [
    "mul.table()"
   ]
  },
  {
   "cell_type": "markdown",
   "metadata": {},
   "source": [
    "# 3. Fibonacci"
   ]
  },
  {
   "cell_type": "code",
   "execution_count": 94,
   "metadata": {},
   "outputs": [],
   "source": [
    "class Fibonacci:\n",
    "    '''\n",
    "    Prints a Fibonacci sequence\n",
    "    '''\n",
    "    def __init__(self, num = 0):\n",
    "        self.num = num\n",
    "        \n",
    "    def series(self):\n",
    "        \n",
    "        try:\n",
    "            a = 0\n",
    "            b = 1\n",
    "            \n",
    "            num = int(input('Enter your number : '))\n",
    "            \n",
    "            for i in range(0, num +1):\n",
    "                c = a + b\n",
    "                a = b\n",
    "                b = c\n",
    "                print(c)\n",
    "                \n",
    "        except Exception as e:\n",
    "            print('error is ', '&************&', e)"
   ]
  },
  {
   "cell_type": "code",
   "execution_count": 95,
   "metadata": {},
   "outputs": [],
   "source": [
    "fib = Fibonacci()"
   ]
  },
  {
   "cell_type": "code",
   "execution_count": 96,
   "metadata": {},
   "outputs": [
    {
     "name": "stdout",
     "output_type": "stream",
     "text": [
      "Enter your number : wsdws\n",
      "error is  &************& invalid literal for int() with base 10: 'wsdws'\n"
     ]
    }
   ],
   "source": [
    "fib.series()"
   ]
  },
  {
   "cell_type": "code",
   "execution_count": 98,
   "metadata": {},
   "outputs": [
    {
     "name": "stdout",
     "output_type": "stream",
     "text": [
      "Enter your number : 20\n",
      "1\n",
      "2\n",
      "3\n",
      "5\n",
      "8\n",
      "13\n",
      "21\n",
      "34\n",
      "55\n",
      "89\n",
      "144\n",
      "233\n",
      "377\n",
      "610\n",
      "987\n",
      "1597\n",
      "2584\n",
      "4181\n",
      "6765\n",
      "10946\n",
      "17711\n"
     ]
    }
   ],
   "source": [
    "fib.series()\n"
   ]
  },
  {
   "cell_type": "markdown",
   "metadata": {},
   "source": [
    "# 4. Armstrong no"
   ]
  },
  {
   "cell_type": "code",
   "execution_count": 162,
   "metadata": {},
   "outputs": [],
   "source": [
    "class Armstrong:\n",
    "    '''\n",
    "    Given 3 digits, it checks whether the no is an armstrong no or not.\n",
    "    '''\n",
    "    \n",
    "    def __init__(self, arm = 0):\n",
    "        self.arm = arm\n",
    "        \n",
    "    def check(self):\n",
    "        \n",
    "        try:\n",
    "            a = int(input('Enter first digit '))\n",
    "            b = int(input('Enter second digit '))\n",
    "            c = int(input('Enter third digit '))\n",
    "            \n",
    "            e = str(a)\n",
    "            f = str(b)\n",
    "            g = str(c)\n",
    "            \n",
    "            d = e + f + g\n",
    "            \n",
    "            d = int(d)\n",
    "            \n",
    "            a = int(a)\n",
    "            b = int(b)\n",
    "            c = int(c)\n",
    "\n",
    "            if a**3 + b**3 + c**3 == d:\n",
    "                print('Yes', d, 'is an Armstrong number')\n",
    "                \n",
    "            if a**3 + b**3 + c**3 != d:\n",
    "                print(\"No\", d, \"is not an armstrong number\")\n",
    "                \n",
    "        except Exception as e:\n",
    "            print(e)\n",
    "\n",
    "            "
   ]
  },
  {
   "cell_type": "code",
   "execution_count": 163,
   "metadata": {},
   "outputs": [],
   "source": [
    "arm = Armstrong()"
   ]
  },
  {
   "cell_type": "code",
   "execution_count": 164,
   "metadata": {},
   "outputs": [
    {
     "name": "stdout",
     "output_type": "stream",
     "text": [
      "Enter first digit 1\n",
      "Enter second digit 0\n",
      "Enter third digit 0\n",
      "No 100 is not an armstrong number\n"
     ]
    }
   ],
   "source": [
    "arm.check()"
   ]
  },
  {
   "cell_type": "code",
   "execution_count": 152,
   "metadata": {},
   "outputs": [
    {
     "name": "stdout",
     "output_type": "stream",
     "text": [
      "Enter first digit 3\n",
      "Enter second digit 7\n",
      "Enter third digit 0\n",
      "yes 370 is an Armstrong number\n"
     ]
    }
   ],
   "source": [
    "arm.check()\n"
   ]
  },
  {
   "cell_type": "code",
   "execution_count": 153,
   "metadata": {},
   "outputs": [
    {
     "name": "stdout",
     "output_type": "stream",
     "text": [
      "Enter first digit 3\n",
      "Enter second digit 7\n",
      "Enter third digit 1\n",
      "yes 371 is an Armstrong number\n"
     ]
    }
   ],
   "source": [
    "arm.check()"
   ]
  },
  {
   "cell_type": "code",
   "execution_count": 154,
   "metadata": {},
   "outputs": [
    {
     "name": "stdout",
     "output_type": "stream",
     "text": [
      "Enter first digit 4\n",
      "Enter second digit 0\n",
      "Enter third digit 7\n",
      "yes 407 is an Armstrong number\n"
     ]
    }
   ],
   "source": [
    "arm.check()"
   ]
  },
  {
   "cell_type": "code",
   "execution_count": 138,
   "metadata": {},
   "outputs": [
    {
     "name": "stdout",
     "output_type": "stream",
     "text": [
      "Enter first digit 1\n",
      "Enter second digit 5\n",
      "Enter third digit 3\n",
      "yes 153 is an Armstrong number\n"
     ]
    }
   ],
   "source": [
    "arm.check()"
   ]
  },
  {
   "cell_type": "code",
   "execution_count": 165,
   "metadata": {},
   "outputs": [
    {
     "name": "stdout",
     "output_type": "stream",
     "text": [
      "Enter first digit 4\n",
      "Enter second digit 0\n",
      "Enter third digit 7\n",
      "Yes 407 is an Armstrong number\n"
     ]
    }
   ],
   "source": [
    "arm.check()\n"
   ]
  },
  {
   "cell_type": "markdown",
   "metadata": {},
   "source": [
    "# 5. Armstrong  no given a series"
   ]
  },
  {
   "cell_type": "code",
   "execution_count": 176,
   "metadata": {},
   "outputs": [],
   "source": [
    "class Armstrong_Series:\n",
    "    '''\n",
    "    Given a range, it checks how many armstrong numbers are present in that range\n",
    "    '''\n",
    "    \n",
    "    def __init__(self, num = 0):\n",
    "        self.num = num\n",
    "        \n",
    "    def check_series(self):\n",
    "        \n",
    "        try:\n",
    "            x = 0\n",
    "            rng = int(input('Enter the Range for how much you want :'))\n",
    "            \n",
    "            for i in range(x, rng):\n",
    "                c = i%10\n",
    "                b1 = int(i/10)\n",
    "                b = b1%10\n",
    "                a1 = int(i/100)\n",
    "                a = a1%10\n",
    "                \n",
    "                if a**3 + b**3 + c**3 == i:\n",
    "                    print('The armstrong numbers between', x, 'and', rng, 'are', i)\n",
    "                    \n",
    "                else:\n",
    "                    print('There are armstrong numbers between', x, 'and', rng)\n",
    "        except Exception as e:\n",
    "            print(e)\n",
    "    \n"
   ]
  },
  {
   "cell_type": "code",
   "execution_count": 148,
   "metadata": {},
   "outputs": [],
   "source": [
    "ser =  Armstrong_Series()"
   ]
  },
  {
   "cell_type": "code",
   "execution_count": 149,
   "metadata": {},
   "outputs": [
    {
     "name": "stdout",
     "output_type": "stream",
     "text": [
      "Enter the Range for how much you want :999\n",
      "The armstrong numbers between 100 and 999 are 153\n",
      "The armstrong numbers between 100 and 999 are 370\n",
      "The armstrong numbers between 100 and 999 are 371\n",
      "The armstrong numbers between 100 and 999 are 407\n"
     ]
    }
   ],
   "source": [
    "ser.check_series()"
   ]
  },
  {
   "cell_type": "code",
   "execution_count": 150,
   "metadata": {},
   "outputs": [
    {
     "name": "stdout",
     "output_type": "stream",
     "text": [
      "Enter the Range for how much you want :eifijiejf\n",
      "invalid literal for int() with base 10: 'eifijiejf'\n"
     ]
    }
   ],
   "source": [
    "ser.check_series()"
   ]
  },
  {
   "cell_type": "code",
   "execution_count": 178,
   "metadata": {},
   "outputs": [
    {
     "name": "stdout",
     "output_type": "stream",
     "text": [
      "Enter the Range for how much you want :200\n",
      "The armstrong numbers between 100 and 200 are 153\n"
     ]
    }
   ],
   "source": [
    "ser.check_series()"
   ]
  },
  {
   "cell_type": "markdown",
   "metadata": {},
   "source": [
    "# 6. Natural numbers sum"
   ]
  },
  {
   "cell_type": "code",
   "execution_count": 190,
   "metadata": {},
   "outputs": [],
   "source": [
    "class Sum:\n",
    "    \n",
    "    def __init__(self, num = 0):\n",
    "        self.num = num\n",
    "        \n",
    "    def summation(self):\n",
    "        \n",
    "        try:\n",
    "            ran = int(input('Enter the range :'))\n",
    "            \n",
    "            l =[]\n",
    "            for i in range(1,ran+1):\n",
    "                l.append(i)\n",
    "            print('The sum of the natural numbers from 1 to', ran, 'is', sum(l))\n",
    "            \n",
    "        except Exception as e:\n",
    "            print('errors',e)\n",
    "\n",
    "        "
   ]
  },
  {
   "cell_type": "code",
   "execution_count": 191,
   "metadata": {},
   "outputs": [],
   "source": [
    "nat = Sum()"
   ]
  },
  {
   "cell_type": "code",
   "execution_count": 192,
   "metadata": {},
   "outputs": [
    {
     "name": "stdout",
     "output_type": "stream",
     "text": [
      "Enter the range :10000\n",
      "The sum of the natural numbers from 1 to 10000 is 50005000\n"
     ]
    }
   ],
   "source": [
    "nat.summation()"
   ]
  },
  {
   "cell_type": "code",
   "execution_count": 198,
   "metadata": {},
   "outputs": [
    {
     "name": "stdout",
     "output_type": "stream",
     "text": [
      "Enter the range :egfrg\n",
      "errors invalid literal for int() with base 10: 'egfrg'\n"
     ]
    }
   ],
   "source": [
    "nat.summation()"
   ]
  },
  {
   "cell_type": "code",
   "execution_count": null,
   "metadata": {},
   "outputs": [],
   "source": []
  }
 ],
 "metadata": {
  "kernelspec": {
   "display_name": "Python 3",
   "language": "python",
   "name": "python3"
  },
  "language_info": {
   "codemirror_mode": {
    "name": "ipython",
    "version": 3
   },
   "file_extension": ".py",
   "mimetype": "text/x-python",
   "name": "python",
   "nbconvert_exporter": "python",
   "pygments_lexer": "ipython3",
   "version": "3.7.6"
  }
 },
 "nbformat": 4,
 "nbformat_minor": 4
}
