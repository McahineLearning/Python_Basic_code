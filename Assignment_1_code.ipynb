{
  "nbformat": 4,
  "nbformat_minor": 0,
  "metadata": {
    "colab": {
      "name": "Assignment_1_code.ipynb",
      "provenance": [],
      "collapsed_sections": [],
      "authorship_tag": "ABX9TyPXRhx2/CiXiCz9bxJVFSL7",
      "include_colab_link": true
    },
    "kernelspec": {
      "name": "python3",
      "display_name": "Python 3"
    },
    "language_info": {
      "name": "python"
    }
  },
  "cells": [
    {
      "cell_type": "markdown",
      "metadata": {
        "id": "view-in-github",
        "colab_type": "text"
      },
      "source": [
        "<a href=\"https://colab.research.google.com/github/McahineLearning/Python_Basic_code/blob/main/Assignment_1_code.ipynb\" target=\"_parent\"><img src=\"https://colab.research.google.com/assets/colab-badge.svg\" alt=\"Open In Colab\"/></a>"
      ]
    },
    {
      "cell_type": "markdown",
      "metadata": {
        "id": "E0xiRosf9jg_"
      },
      "source": [
        "# 1.\tWrite a Python program to print \"Hello Python\"?"
      ]
    },
    {
      "cell_type": "code",
      "metadata": {
        "colab": {
          "base_uri": "https://localhost:8080/"
        },
        "id": "bE9IpVyb9c6Q",
        "outputId": "7e06b33a-7a23-4871-a766-be260bc3f412"
      },
      "source": [
        "print('Hello Python')"
      ],
      "execution_count": 1,
      "outputs": [
        {
          "output_type": "stream",
          "text": [
            "Hello Python\n"
          ],
          "name": "stdout"
        }
      ]
    },
    {
      "cell_type": "markdown",
      "metadata": {
        "id": "U-Dh0ubZ-A-n"
      },
      "source": [
        "# 2.\tWrite a Python program to do arithmetical operations addition and division.?"
      ]
    },
    {
      "cell_type": "code",
      "metadata": {
        "id": "AZCQwTU19-Tr"
      },
      "source": [
        "def add_division(a,b):\n",
        "  return a+b, a/b"
      ],
      "execution_count": 2,
      "outputs": []
    },
    {
      "cell_type": "code",
      "metadata": {
        "colab": {
          "base_uri": "https://localhost:8080/"
        },
        "id": "k03Zg0DL-QDi",
        "outputId": "e6abe129-797f-446d-f718-90fe5ce7b554"
      },
      "source": [
        "add_division(8,4)"
      ],
      "execution_count": 3,
      "outputs": [
        {
          "output_type": "execute_result",
          "data": {
            "text/plain": [
              "(12, 2.0)"
            ]
          },
          "metadata": {
            "tags": []
          },
          "execution_count": 3
        }
      ]
    },
    {
      "cell_type": "markdown",
      "metadata": {
        "id": "-fhwm-ED-ZUf"
      },
      "source": [
        "# 3.\tWrite a Python program to find the area of a triangle?"
      ]
    },
    {
      "cell_type": "code",
      "metadata": {
        "id": "66liwqrc-Tw6"
      },
      "source": [
        "def area():\n",
        "\n",
        "  base = int(input('Enter the base :'))\n",
        "  height = int(input('Enter the height :'))\n",
        "\n",
        "  area = 0.5*base*height\n",
        "\n",
        "  print('Area of the triangle is', round(area), 'square units...')"
      ],
      "execution_count": 7,
      "outputs": []
    },
    {
      "cell_type": "code",
      "metadata": {
        "colab": {
          "base_uri": "https://localhost:8080/"
        },
        "id": "PKr9mp3h-mp8",
        "outputId": "ef4d508a-a523-4afb-a4b6-0dca5baeaa8b"
      },
      "source": [
        "area()"
      ],
      "execution_count": 8,
      "outputs": [
        {
          "output_type": "stream",
          "text": [
            "Enter the base :44\n",
            "Enter the height :56\n",
            "Area of the triangle is 1232 square units...\n"
          ],
          "name": "stdout"
        }
      ]
    },
    {
      "cell_type": "markdown",
      "metadata": {
        "id": "lQkO18Bw_vpv"
      },
      "source": [
        "# 4.\tWrite a Python program to swap two variables?"
      ]
    },
    {
      "cell_type": "code",
      "metadata": {
        "colab": {
          "base_uri": "https://localhost:8080/"
        },
        "id": "JNqXq3yx_GNe",
        "outputId": "cf335a61-35c2-4b56-ec5a-9c19e4de97d1"
      },
      "source": [
        "a, b = 12,4\n",
        "print(a,b)\n",
        "\n",
        "b,a = 12,4\n",
        "\n",
        "print(a,b)"
      ],
      "execution_count": 10,
      "outputs": [
        {
          "output_type": "stream",
          "text": [
            "12 4\n",
            "4 12\n"
          ],
          "name": "stdout"
        }
      ]
    },
    {
      "cell_type": "markdown",
      "metadata": {
        "id": "aRHDWNG_ANou"
      },
      "source": [
        "# 5.\tWrite a Python program to generate a random number?"
      ]
    },
    {
      "cell_type": "code",
      "metadata": {
        "colab": {
          "base_uri": "https://localhost:8080/"
        },
        "id": "VoxfwewNAJ5v",
        "outputId": "5c188bbe-1678-4f3e-aad3-ba960c24d769"
      },
      "source": [
        "import random\n",
        "\n",
        "print('Generated Random Number:',random.randint(0,10000))"
      ],
      "execution_count": 11,
      "outputs": [
        {
          "output_type": "stream",
          "text": [
            "Generated Random Number: 9622\n"
          ],
          "name": "stdout"
        }
      ]
    },
    {
      "cell_type": "code",
      "metadata": {
        "id": "VlPii-UCAgXS"
      },
      "source": [
        ""
      ],
      "execution_count": null,
      "outputs": []
    }
  ]
}