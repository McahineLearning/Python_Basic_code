{
  "nbformat": 4,
  "nbformat_minor": 0,
  "metadata": {
    "colab": {
      "name": "Assignment_2_code.ipynb.ipynb",
      "provenance": [],
      "collapsed_sections": [],
      "authorship_tag": "ABX9TyO0FlVR0e1haanolbUMR5FA",
      "include_colab_link": true
    },
    "kernelspec": {
      "name": "python3",
      "display_name": "Python 3"
    },
    "language_info": {
      "name": "python"
    }
  },
  "cells": [
    {
      "cell_type": "markdown",
      "metadata": {
        "id": "view-in-github",
        "colab_type": "text"
      },
      "source": [
        "<a href=\"https://colab.research.google.com/github/McahineLearning/Python_Basic_code/blob/main/Assignment_2_code_ipynb.ipynb\" target=\"_parent\"><img src=\"https://colab.research.google.com/assets/colab-badge.svg\" alt=\"Open In Colab\"/></a>"
      ]
    },
    {
      "cell_type": "markdown",
      "metadata": {
        "id": "0t-44OsnCCRo"
      },
      "source": [
        "# 1.\tWrite a Python program to convert kilometers to miles?"
      ]
    },
    {
      "cell_type": "code",
      "metadata": {
        "colab": {
          "base_uri": "https://localhost:8080/",
          "height": 52
        },
        "id": "gdkHUeZjB2OL",
        "outputId": "7da6fded-ad23-44c4-9224-28465d6806f5"
      },
      "source": [
        "def kms_miles():\n",
        "\n",
        "  kilo = int(input('Enter kilometer :'))\n",
        "  miles = float(kilo/1.61)\n",
        "  return 'For ' + str(kilo) + ' kms we get ' + str(miles) + ' miles...'\n",
        "\n",
        "\n",
        "kms_miles()"
      ],
      "execution_count": 16,
      "outputs": [
        {
          "output_type": "stream",
          "text": [
            "Enter kilometer :3\n"
          ],
          "name": "stdout"
        },
        {
          "output_type": "execute_result",
          "data": {
            "application/vnd.google.colaboratory.intrinsic+json": {
              "type": "string"
            },
            "text/plain": [
              "'For 3 kms we get 1.8633540372670807 miles...'"
            ]
          },
          "metadata": {
            "tags": []
          },
          "execution_count": 16
        }
      ]
    },
    {
      "cell_type": "markdown",
      "metadata": {
        "id": "QtDth6kvGBY8"
      },
      "source": [
        "# 2.\tWrite a Python program to convert Celsius to Fahrenheit?"
      ]
    },
    {
      "cell_type": "code",
      "metadata": {
        "colab": {
          "base_uri": "https://localhost:8080/"
        },
        "id": "4UCwhCd9FJEo",
        "outputId": "511785be-be0d-48aa-c223-58e692fe9dd7"
      },
      "source": [
        "def celsius_faren():\n",
        "\n",
        "  celsius = int(input('Enter Celsius temperature in degrees : '))\n",
        "  farenheit = celsius * 1.8\n",
        "  farenheit = farenheit + 32\n",
        "  print('The Farenheit Temperature for the celsius temperature', celsius, 'degree is', farenheit, 'degree')\n",
        "\n",
        "\n",
        "celsius_faren()"
      ],
      "execution_count": 10,
      "outputs": [
        {
          "output_type": "stream",
          "text": [
            "Enter Celsius temperature in degrees : 25\n",
            "The Farenheit Temperature for the celsius temperature 25 degree is 77.0 degree\n"
          ],
          "name": "stdout"
        }
      ]
    },
    {
      "cell_type": "markdown",
      "metadata": {
        "id": "x13duXRLF7Lw"
      },
      "source": [
        "# 3.\tWrite a Python program to display calendar?"
      ]
    },
    {
      "cell_type": "code",
      "metadata": {
        "colab": {
          "base_uri": "https://localhost:8080/"
        },
        "id": "O32_2FsUCDv0",
        "outputId": "67059ef1-36d4-4729-a4d4-7481a1305a0f"
      },
      "source": [
        "import calendar\n",
        "\n",
        "\n",
        "# To take month and year input from the user\n",
        "yy = int(input(\"Enter year: \"))\n",
        "mm = int(input(\"Enter month: \"))\n",
        "\n",
        "# display the calendar\n",
        "print(calendar.month(yy, mm))"
      ],
      "execution_count": 7,
      "outputs": [
        {
          "output_type": "stream",
          "text": [
            "Enter year: 2021\n",
            "Enter month: 3\n",
            "     March 2021\n",
            "Mo Tu We Th Fr Sa Su\n",
            " 1  2  3  4  5  6  7\n",
            " 8  9 10 11 12 13 14\n",
            "15 16 17 18 19 20 21\n",
            "22 23 24 25 26 27 28\n",
            "29 30 31\n",
            "\n"
          ],
          "name": "stdout"
        }
      ]
    },
    {
      "cell_type": "markdown",
      "metadata": {
        "id": "bXoxGb31IMcm"
      },
      "source": [
        "# 4.\tWrite a Python program to solve quadratic equation?"
      ]
    },
    {
      "cell_type": "code",
      "metadata": {
        "colab": {
          "base_uri": "https://localhost:8080/"
        },
        "id": "pfciK_xmFdVx",
        "outputId": "99b4d336-754d-496f-e7d2-2bf0c3ecb29d"
      },
      "source": [
        "import math\n",
        "\n",
        "def roots():\n",
        "\n",
        "  a = int(input('Enter the value of a'))\n",
        "  b = int(input('Enter the value of b'))\n",
        "  c = int(input('Enter the value of c'))\n",
        "  first_part = b*b - 4 * a * c\n",
        "  second_part = math.sqrt(abs(first_part))\n",
        "\n",
        "  positive = -b + second_part/ 4 * a\n",
        "  negative = -b - second_part/ 4 * a\n",
        "\n",
        "  print('positive roots are ', positive)\n",
        "  print('negative roots are ', negative)\n",
        "\n",
        "roots()"
      ],
      "execution_count": 22,
      "outputs": [
        {
          "output_type": "stream",
          "text": [
            "Enter the value of a2\n",
            "Enter the value of b3\n",
            "Enter the value of c5\n",
            "positive roots are  -0.21611781858498924\n",
            "negative roots are  -5.783882181415011\n"
          ],
          "name": "stdout"
        }
      ]
    },
    {
      "cell_type": "markdown",
      "metadata": {
        "id": "MZULxq2vLMdw"
      },
      "source": [
        "# 5.\tWrite a Python program to swap two variables without temp variable?"
      ]
    },
    {
      "cell_type": "code",
      "metadata": {
        "colab": {
          "base_uri": "https://localhost:8080/"
        },
        "id": "sGmG715GIzZj",
        "outputId": "c9026174-1892-4cc6-b0d6-025c1ae2b164"
      },
      "source": [
        "a, b = 12,7\n",
        "print(a,b)\n",
        "b, a = 12,7\n",
        "print(a,b)"
      ],
      "execution_count": 23,
      "outputs": [
        {
          "output_type": "stream",
          "text": [
            "12 7\n",
            "7 12\n"
          ],
          "name": "stdout"
        }
      ]
    },
    {
      "cell_type": "code",
      "metadata": {
        "id": "ccBkPTnZLbBY"
      },
      "source": [
        ""
      ],
      "execution_count": null,
      "outputs": []
    }
  ]
}